{
 "cells": [
  {
   "cell_type": "markdown",
   "id": "a78b4eab-b030-4e58-892f-6e6bd7e80132",
   "metadata": {},
   "source": [
    "# Data Science Tools and Ecosystem"
   ]
  },
  {
   "cell_type": "markdown",
   "id": "c210dac7-ea75-4c39-b809-e88b30f4f6b2",
   "metadata": {
    "jp-MarkdownHeadingCollapsed": true
   },
   "source": [
    "# In this notebook, Data Science Tools and Ecosystem are summarized"
   ]
  },
  {
   "cell_type": "markdown",
   "id": "faffc487-779f-436e-8fac-e66c190b78aa",
   "metadata": {},
   "source": [
    "# Some of the popular languages that Data Scientists use are:\n",
    "1. Python\n",
    "2. SQL\n",
    "3. MATLAB\n",
    "4. Go\n",
    "5. JAVA\n",
    "6. Julia"
   ]
  },
  {
   "cell_type": "markdown",
   "id": "30327e2b-d48c-42f7-aa88-397360f89efd",
   "metadata": {},
   "source": [
    "# Some of the commonly used libraries used by Data Scientists include:\n",
    "1. Matplotib\n",
    "2. SciPy\n",
    "3. Pandas\n",
    "4. NumPy\n",
    "5. TensorFlow"
   ]
  },
  {
   "cell_type": "markdown",
   "id": "383e2d4d-6919-4abb-b3c2-32a9e5d77648",
   "metadata": {},
   "source": [
    "# Data Science Tools :"
   ]
  },
  {
   "cell_type": "raw",
   "id": "6014bf63-ccac-43ae-a4bd-6187ef385794",
   "metadata": {},
   "source": [
    "Jupyter Notebooks\n",
    "Zeppelin Notebooks\n",
    "R Studio"
   ]
  },
  {
   "cell_type": "markdown",
   "id": "1f200926-74ef-4ab8-8c66-3664a16062ee",
   "metadata": {},
   "source": [
    "### Below are a few examples of evaluating arithmetic expressions in Python :"
   ]
  },
  {
   "cell_type": "markdown",
   "id": "d2b5568e-0d8a-49e2-87f6-7c2a5b3c711f",
   "metadata": {},
   "source": [
    "### This a simple arithmetic expression to mutiply then add integers\n"
   ]
  },
  {
   "cell_type": "code",
   "execution_count": 52,
   "id": "2da4cd94-3458-492a-8476-bb51e8db7307",
   "metadata": {},
   "outputs": [
    {
     "data": {
      "text/plain": [
       "17"
      ]
     },
     "execution_count": 52,
     "metadata": {},
     "output_type": "execute_result"
    }
   ],
   "source": [
    "(3*4)+5"
   ]
  },
  {
   "cell_type": "markdown",
   "id": "61e104ff-fc40-4151-a451-6fa165a15f88",
   "metadata": {},
   "source": [
    "### This will convert 200 minutes to hours by diving by 60"
   ]
  },
  {
   "cell_type": "code",
   "execution_count": 55,
   "id": "38e5b5ea-4e22-4327-800b-a9cc2672af3f",
   "metadata": {},
   "outputs": [
    {
     "data": {
      "text/plain": [
       "3.3333333333333335"
      ]
     },
     "execution_count": 55,
     "metadata": {},
     "output_type": "execute_result"
    }
   ],
   "source": [
    "200/60"
   ]
  },
  {
   "cell_type": "markdown",
   "id": "f60cab60-9a6b-4bb5-80c3-74f83318cb1a",
   "metadata": {},
   "source": [
    "# Objectives:\n",
    "* Some of the popular languages that Data Scientists use\n",
    "* Some of the commonly used libraries used by Data Scientists\n",
    "* Data Science Tools"
   ]
  },
  {
   "cell_type": "markdown",
   "id": "c2ed5f46-d313-4613-bb43-672b608b4f63",
   "metadata": {},
   "source": [
    "## Author\n",
    "Moayed Sorkatti"
   ]
  }
 ],
 "metadata": {
  "kernelspec": {
   "display_name": "Python 3 (ipykernel)",
   "language": "python",
   "name": "python3"
  },
  "language_info": {
   "codemirror_mode": {
    "name": "ipython",
    "version": 3
   },
   "file_extension": ".py",
   "mimetype": "text/x-python",
   "name": "python",
   "nbconvert_exporter": "python",
   "pygments_lexer": "ipython3",
   "version": "3.11.7"
  }
 },
 "nbformat": 4,
 "nbformat_minor": 5
}
